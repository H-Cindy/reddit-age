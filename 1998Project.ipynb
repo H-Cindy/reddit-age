{
 "cells": [
  {
   "cell_type": "markdown",
   "metadata": {},
   "source": [
    "## Final Project: Reddit \n",
    "We expect that by the time you complete your check-in, you should have at least selected your dataset and question/problem that you are looking to answer/solve and begun preprocessing and manipulating the data.\n",
    "\n",
    "Question/problem: Can we predict a user's age based off of characteristics of their submission?"
   ]
  },
  {
   "cell_type": "code",
   "execution_count": 13,
   "metadata": {},
   "outputs": [],
   "source": [
    "import pandas as pd\n",
    "import praw"
   ]
  },
  {
   "cell_type": "code",
   "execution_count": 16,
   "metadata": {},
   "outputs": [
    {
     "name": "stdout",
     "output_type": "stream",
     "text": [
      "Done\n"
     ]
    }
   ],
   "source": [
    "# scrape the teenager subreddit posts\n",
    "\n",
    "if __name__ == '__main__':\n",
    "\n",
    "    reddit = praw.Reddit(client_id = '6AM4B2tSyxBJSwue1qcfIg',client_secret = 'eSfVhPV45iW2e2YqzlqSO6EC5ME3GA',user_agent = '1998 ML Project')\n",
    "\n",
    "    teenager_subreddit = reddit.subreddit('Teenagers')\n",
    "\n",
    "    id_list = []\n",
    "    upvotes = []\n",
    "    authors = []\n",
    "    post_flairs = []\n",
    "    user_flairs = []\n",
    "    titles = []\n",
    "    num_comments = []\n",
    "    distinguished = []\n",
    "    over_18 = []\n",
    "\n",
    "    for submission in teenager_subreddit.new(limit = 100000):\n",
    "        upvotes.append(submission.score)\n",
    "        authors.append(submission.author)\n",
    "        post_flairs.append(submission.link_flair_text)\n",
    "        user_flairs.append(submission.author_flair_text)\n",
    "        titles.append(submission.title)\n",
    "        num_comments.append(submission.num_comments)\n",
    "        distinguished.append(submission.distinguished)\n",
    "        over_18.append(submission.over_18)\n",
    "        id_list.append(submission.id)\n",
    "\n",
    "\n",
    "\n",
    "\n",
    "    print(\"Done\")\n",
    "\n",
    "    df = pd.DataFrame({\n",
    "        'id':id_list,\n",
    "        \"author\":authors,\n",
    "        'title':titles,\n",
    "        'num_of_comments':num_comments,\n",
    "        'distinguished':distinguished,\n",
    "        'over_18':over_18,\n",
    "        'post_flairs':post_flairs,\n",
    "        'author_flairs':user_flairs,\n",
    "        'upvotes':upvotes\n",
    "        })\n",
    "\n",
    "    df.to_csv('reddit_dataset.csv', index=True)"
   ]
  },
  {
   "cell_type": "code",
   "execution_count": 19,
   "metadata": {},
   "outputs": [
    {
     "data": {
      "text/html": [
       "<div>\n",
       "<style scoped>\n",
       "    .dataframe tbody tr th:only-of-type {\n",
       "        vertical-align: middle;\n",
       "    }\n",
       "\n",
       "    .dataframe tbody tr th {\n",
       "        vertical-align: top;\n",
       "    }\n",
       "\n",
       "    .dataframe thead th {\n",
       "        text-align: right;\n",
       "    }\n",
       "</style>\n",
       "<table border=\"1\" class=\"dataframe\">\n",
       "  <thead>\n",
       "    <tr style=\"text-align: right;\">\n",
       "      <th></th>\n",
       "      <th>Unnamed: 0</th>\n",
       "      <th>id</th>\n",
       "      <th>author</th>\n",
       "      <th>title</th>\n",
       "      <th>num_of_comments</th>\n",
       "      <th>distinguished</th>\n",
       "      <th>over_18</th>\n",
       "      <th>post_flairs</th>\n",
       "      <th>author_flairs</th>\n",
       "      <th>upvotes</th>\n",
       "    </tr>\n",
       "  </thead>\n",
       "  <tbody>\n",
       "    <tr>\n",
       "      <th>983</th>\n",
       "      <td>983</td>\n",
       "      <td>qjsdev</td>\n",
       "      <td>broji04</td>\n",
       "      <td>1001 comments and I'll confess to me crush but...</td>\n",
       "      <td>3</td>\n",
       "      <td>NaN</td>\n",
       "      <td>False</td>\n",
       "      <td>Advice</td>\n",
       "      <td>17</td>\n",
       "      <td>2</td>\n",
       "    </tr>\n",
       "    <tr>\n",
       "      <th>984</th>\n",
       "      <td>984</td>\n",
       "      <td>qjscn8</td>\n",
       "      <td>bigbootynikee</td>\n",
       "      <td>anyone wanna snap :3</td>\n",
       "      <td>8</td>\n",
       "      <td>NaN</td>\n",
       "      <td>False</td>\n",
       "      <td>Social</td>\n",
       "      <td>NaN</td>\n",
       "      <td>1</td>\n",
       "    </tr>\n",
       "    <tr>\n",
       "      <th>985</th>\n",
       "      <td>985</td>\n",
       "      <td>qjscfg</td>\n",
       "      <td>dauntlessdefiance</td>\n",
       "      <td>I want a skinny emo boyfriend</td>\n",
       "      <td>21</td>\n",
       "      <td>NaN</td>\n",
       "      <td>False</td>\n",
       "      <td>Other</td>\n",
       "      <td>16</td>\n",
       "      <td>1</td>\n",
       "    </tr>\n",
       "    <tr>\n",
       "      <th>986</th>\n",
       "      <td>986</td>\n",
       "      <td>qjscc6</td>\n",
       "      <td>Nintendocat64</td>\n",
       "      <td>Swedish fish has given us power, make cursed m...</td>\n",
       "      <td>0</td>\n",
       "      <td>NaN</td>\n",
       "      <td>False</td>\n",
       "      <td>Meme</td>\n",
       "      <td>13</td>\n",
       "      <td>1</td>\n",
       "    </tr>\n",
       "    <tr>\n",
       "      <th>987</th>\n",
       "      <td>987</td>\n",
       "      <td>qjs9x0</td>\n",
       "      <td>BottleSome2751</td>\n",
       "      <td>Fucking kill me</td>\n",
       "      <td>4</td>\n",
       "      <td>NaN</td>\n",
       "      <td>False</td>\n",
       "      <td>Meme</td>\n",
       "      <td>16</td>\n",
       "      <td>23</td>\n",
       "    </tr>\n",
       "  </tbody>\n",
       "</table>\n",
       "</div>"
      ],
      "text/plain": [
       "     Unnamed: 0      id             author  \\\n",
       "983         983  qjsdev            broji04   \n",
       "984         984  qjscn8      bigbootynikee   \n",
       "985         985  qjscfg  dauntlessdefiance   \n",
       "986         986  qjscc6      Nintendocat64   \n",
       "987         987  qjs9x0     BottleSome2751   \n",
       "\n",
       "                                                 title  num_of_comments  \\\n",
       "983  1001 comments and I'll confess to me crush but...                3   \n",
       "984                               anyone wanna snap :3                8   \n",
       "985                      I want a skinny emo boyfriend               21   \n",
       "986  Swedish fish has given us power, make cursed m...                0   \n",
       "987                                    Fucking kill me                4   \n",
       "\n",
       "     distinguished  over_18 post_flairs author_flairs  upvotes  \n",
       "983            NaN    False      Advice            17        2  \n",
       "984            NaN    False      Social           NaN        1  \n",
       "985            NaN    False       Other            16        1  \n",
       "986            NaN    False        Meme            13        1  \n",
       "987            NaN    False        Meme            16       23  "
      ]
     },
     "execution_count": 19,
     "metadata": {},
     "output_type": "execute_result"
    }
   ],
   "source": [
    "# initial dataset—uncleaned\n",
    "\n",
    "reddit_df = pd.read_csv('/Users/indiachina/Desktop/INFO 1998/Final Project/reddit_dataset.csv',encoding = 'unicode_escape')"
   ]
  },
  {
   "cell_type": "code",
   "execution_count": 20,
   "metadata": {},
   "outputs": [
    {
     "data": {
      "text/plain": [
       "603"
      ]
     },
     "execution_count": 20,
     "metadata": {},
     "output_type": "execute_result"
    }
   ],
   "source": [
    "# cleaning dataset: drop NaNs from author_flairs and flairs that say \"2 MILLION ATTENDEE\"\n",
    "\n",
    "reddit_df = reddit_df.dropna(subset=[\"author_flairs\"])\n",
    "reddit_df = reddit_df[reddit_df[\"author_flairs\"] != \"2 MILLION ATTENDEE\"]\n",
    "reddit_df.head()\n",
    "reddit_df.shape[0]\n",
    "\n",
    "# another column: swear words?"
   ]
  },
  {
   "cell_type": "code",
   "execution_count": null,
   "metadata": {},
   "outputs": [],
   "source": []
  }
 ],
 "metadata": {
  "kernelspec": {
   "display_name": "Python 3",
   "language": "python",
   "name": "python3"
  },
  "language_info": {
   "codemirror_mode": {
    "name": "ipython",
    "version": 3
   },
   "file_extension": ".py",
   "mimetype": "text/x-python",
   "name": "python",
   "nbconvert_exporter": "python",
   "pygments_lexer": "ipython3",
   "version": "3.6.8"
  }
 },
 "nbformat": 4,
 "nbformat_minor": 2
}
