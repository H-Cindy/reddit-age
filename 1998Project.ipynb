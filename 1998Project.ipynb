{
 "cells": [
  {
   "cell_type": "markdown",
   "metadata": {},
   "source": [
    "## Final Project: Reddit \n",
    "\n",
    "Question/problem: Can we predict a user's age based off of characteristics of their submission?"
   ]
  },
  {
   "cell_type": "code",
   "execution_count": 111,
   "metadata": {},
   "outputs": [],
   "source": [
    "import matplotlib.pyplot as plt\n",
    "import numpy as np\n",
    "import pandas as pd\n",
    "import seaborn as sns\n",
    "import random\n",
    "from sklearn.linear_model import LinearRegression\n",
    "from sklearn.linear_model import LogisticRegression\n",
    "from sklearn.metrics import accuracy_score\n",
    "from sklearn.neighbors import KNeighborsClassifier\n",
    "from pmaw import PushshiftAPI\n",
    "from datetime import datetime as dt\n",
    "from sklearn.preprocessing import StandardScaler\n",
    "from sklearn.ensemble import RandomForestClassifier\n",
    "from sklearn.metrics import confusion_matrix\n",
    "#from sklearn.externals import joblib\n",
    "import praw"
   ]
  },
  {
   "cell_type": "markdown",
   "metadata": {},
   "source": [
    "## Dataset Creation\n",
    "\n",
    "We used an API to scrape data on the 500,000 most recent reddit post submissions on r/teenagers."
   ]
  },
  {
   "cell_type": "code",
   "execution_count": 2,
   "metadata": {},
   "outputs": [
    {
     "name": "stdout",
     "output_type": "stream",
     "text": [
      "Done\n"
     ]
    }
   ],
   "source": [
    "api = PushshiftAPI()\n",
    "subreddit = \"teenagers\"\n",
    "subs = api.search_submissions(subreddit=subreddit, limit = 500000)\n",
    "df = pd.DataFrame(subs)\n",
    "df.to_csv('/teenagersData.csv', header=True)"
   ]
  },
  {
   "cell_type": "markdown",
   "metadata": {},
   "source": [
    "## Preprocessing and Manipulation"
   ]
  },
  {
   "cell_type": "code",
   "execution_count": 153,
   "metadata": {},
   "outputs": [
    {
     "data": {
      "text/html": [
       "<div>\n",
       "<style scoped>\n",
       "    .dataframe tbody tr th:only-of-type {\n",
       "        vertical-align: middle;\n",
       "    }\n",
       "\n",
       "    .dataframe tbody tr th {\n",
       "        vertical-align: top;\n",
       "    }\n",
       "\n",
       "    .dataframe thead th {\n",
       "        text-align: right;\n",
       "    }\n",
       "</style>\n",
       "<table border=\"1\" class=\"dataframe\">\n",
       "  <thead>\n",
       "    <tr style=\"text-align: right;\">\n",
       "      <th></th>\n",
       "      <th>Unnamed: 0</th>\n",
       "      <th>all_awardings</th>\n",
       "      <th>allow_live_comments</th>\n",
       "      <th>author</th>\n",
       "      <th>author_flair_css_class</th>\n",
       "      <th>author_flair_richtext</th>\n",
       "      <th>author_flair_template_id</th>\n",
       "      <th>author_flair_text</th>\n",
       "      <th>author_flair_text_color</th>\n",
       "      <th>author_flair_type</th>\n",
       "      <th>...</th>\n",
       "      <th>is_created_from_ads_ui</th>\n",
       "      <th>author_is_blocked</th>\n",
       "      <th>gilded</th>\n",
       "      <th>distinguished</th>\n",
       "      <th>suggested_sort</th>\n",
       "      <th>top_awarded_type</th>\n",
       "      <th>removal_reason</th>\n",
       "      <th>crosspost_parent</th>\n",
       "      <th>crosspost_parent_list</th>\n",
       "      <th>live_audio</th>\n",
       "    </tr>\n",
       "  </thead>\n",
       "  <tbody>\n",
       "    <tr>\n",
       "      <th>0</th>\n",
       "      <td>0</td>\n",
       "      <td>[]</td>\n",
       "      <td>True</td>\n",
       "      <td>OWO_UDEAD</td>\n",
       "      <td>NaN</td>\n",
       "      <td>[{'e': 'text', 't': '17'}]</td>\n",
       "      <td>f2e6204c-9bc7-11e1-af72-12313b078981</td>\n",
       "      <td>17</td>\n",
       "      <td>dark</td>\n",
       "      <td>richtext</td>\n",
       "      <td>...</td>\n",
       "      <td>NaN</td>\n",
       "      <td>NaN</td>\n",
       "      <td>NaN</td>\n",
       "      <td>NaN</td>\n",
       "      <td>NaN</td>\n",
       "      <td>NaN</td>\n",
       "      <td>NaN</td>\n",
       "      <td>NaN</td>\n",
       "      <td>NaN</td>\n",
       "      <td>NaN</td>\n",
       "    </tr>\n",
       "    <tr>\n",
       "      <th>1</th>\n",
       "      <td>1</td>\n",
       "      <td>[]</td>\n",
       "      <td>True</td>\n",
       "      <td>[deleted]</td>\n",
       "      <td>NaN</td>\n",
       "      <td>NaN</td>\n",
       "      <td>NaN</td>\n",
       "      <td>NaN</td>\n",
       "      <td>dark</td>\n",
       "      <td>NaN</td>\n",
       "      <td>...</td>\n",
       "      <td>NaN</td>\n",
       "      <td>NaN</td>\n",
       "      <td>NaN</td>\n",
       "      <td>NaN</td>\n",
       "      <td>NaN</td>\n",
       "      <td>NaN</td>\n",
       "      <td>NaN</td>\n",
       "      <td>NaN</td>\n",
       "      <td>NaN</td>\n",
       "      <td>NaN</td>\n",
       "    </tr>\n",
       "    <tr>\n",
       "      <th>2</th>\n",
       "      <td>2</td>\n",
       "      <td>[]</td>\n",
       "      <td>True</td>\n",
       "      <td>[deleted]</td>\n",
       "      <td>NaN</td>\n",
       "      <td>NaN</td>\n",
       "      <td>NaN</td>\n",
       "      <td>NaN</td>\n",
       "      <td>dark</td>\n",
       "      <td>NaN</td>\n",
       "      <td>...</td>\n",
       "      <td>NaN</td>\n",
       "      <td>NaN</td>\n",
       "      <td>NaN</td>\n",
       "      <td>NaN</td>\n",
       "      <td>NaN</td>\n",
       "      <td>NaN</td>\n",
       "      <td>NaN</td>\n",
       "      <td>NaN</td>\n",
       "      <td>NaN</td>\n",
       "      <td>NaN</td>\n",
       "    </tr>\n",
       "    <tr>\n",
       "      <th>3</th>\n",
       "      <td>3</td>\n",
       "      <td>[]</td>\n",
       "      <td>False</td>\n",
       "      <td>MidiMidi_445</td>\n",
       "      <td>NaN</td>\n",
       "      <td>[{'e': 'text', 't': '15'}]</td>\n",
       "      <td>ef54aab6-9bc7-11e1-a725-12313b0c247a</td>\n",
       "      <td>15</td>\n",
       "      <td>dark</td>\n",
       "      <td>richtext</td>\n",
       "      <td>...</td>\n",
       "      <td>NaN</td>\n",
       "      <td>NaN</td>\n",
       "      <td>NaN</td>\n",
       "      <td>NaN</td>\n",
       "      <td>NaN</td>\n",
       "      <td>NaN</td>\n",
       "      <td>NaN</td>\n",
       "      <td>NaN</td>\n",
       "      <td>NaN</td>\n",
       "      <td>NaN</td>\n",
       "    </tr>\n",
       "    <tr>\n",
       "      <th>4</th>\n",
       "      <td>4</td>\n",
       "      <td>[]</td>\n",
       "      <td>False</td>\n",
       "      <td>j_p_x_f_r_d</td>\n",
       "      <td>NaN</td>\n",
       "      <td>[{'e': 'text', 't': '14'}]</td>\n",
       "      <td>ee2caff8-9bc7-11e1-bb7b-12313b07b651</td>\n",
       "      <td>14</td>\n",
       "      <td>dark</td>\n",
       "      <td>richtext</td>\n",
       "      <td>...</td>\n",
       "      <td>NaN</td>\n",
       "      <td>NaN</td>\n",
       "      <td>NaN</td>\n",
       "      <td>NaN</td>\n",
       "      <td>NaN</td>\n",
       "      <td>NaN</td>\n",
       "      <td>NaN</td>\n",
       "      <td>NaN</td>\n",
       "      <td>NaN</td>\n",
       "      <td>NaN</td>\n",
       "    </tr>\n",
       "  </tbody>\n",
       "</table>\n",
       "<p>5 rows × 90 columns</p>\n",
       "</div>"
      ],
      "text/plain": [
       "   Unnamed: 0 all_awardings  allow_live_comments        author  \\\n",
       "0           0            []                 True     OWO_UDEAD   \n",
       "1           1            []                 True     [deleted]   \n",
       "2           2            []                 True     [deleted]   \n",
       "3           3            []                False  MidiMidi_445   \n",
       "4           4            []                False   j_p_x_f_r_d   \n",
       "\n",
       "  author_flair_css_class       author_flair_richtext  \\\n",
       "0                    NaN  [{'e': 'text', 't': '17'}]   \n",
       "1                    NaN                         NaN   \n",
       "2                    NaN                         NaN   \n",
       "3                    NaN  [{'e': 'text', 't': '15'}]   \n",
       "4                    NaN  [{'e': 'text', 't': '14'}]   \n",
       "\n",
       "               author_flair_template_id author_flair_text  \\\n",
       "0  f2e6204c-9bc7-11e1-af72-12313b078981                17   \n",
       "1                                   NaN               NaN   \n",
       "2                                   NaN               NaN   \n",
       "3  ef54aab6-9bc7-11e1-a725-12313b0c247a                15   \n",
       "4  ee2caff8-9bc7-11e1-bb7b-12313b07b651                14   \n",
       "\n",
       "  author_flair_text_color author_flair_type    ...     is_created_from_ads_ui  \\\n",
       "0                    dark          richtext    ...                        NaN   \n",
       "1                    dark               NaN    ...                        NaN   \n",
       "2                    dark               NaN    ...                        NaN   \n",
       "3                    dark          richtext    ...                        NaN   \n",
       "4                    dark          richtext    ...                        NaN   \n",
       "\n",
       "  author_is_blocked gilded distinguished  suggested_sort  top_awarded_type  \\\n",
       "0               NaN    NaN           NaN             NaN               NaN   \n",
       "1               NaN    NaN           NaN             NaN               NaN   \n",
       "2               NaN    NaN           NaN             NaN               NaN   \n",
       "3               NaN    NaN           NaN             NaN               NaN   \n",
       "4               NaN    NaN           NaN             NaN               NaN   \n",
       "\n",
       "   removal_reason crosspost_parent crosspost_parent_list live_audio  \n",
       "0             NaN              NaN                   NaN        NaN  \n",
       "1             NaN              NaN                   NaN        NaN  \n",
       "2             NaN              NaN                   NaN        NaN  \n",
       "3             NaN              NaN                   NaN        NaN  \n",
       "4             NaN              NaN                   NaN        NaN  \n",
       "\n",
       "[5 rows x 90 columns]"
      ]
     },
     "execution_count": 153,
     "metadata": {},
     "output_type": "execute_result"
    }
   ],
   "source": [
    "# initial dataset—uncleaned\n",
    "dfRaw = pd.read_csv('teenagersData.csv', low_memory = False)\n",
    "dfRaw.head()"
   ]
  },
  {
   "cell_type": "code",
   "execution_count": 88,
   "metadata": {},
   "outputs": [
    {
     "data": {
      "text/plain": [
       "['Unnamed: 0',\n",
       " 'all_awardings',\n",
       " 'allow_live_comments',\n",
       " 'author',\n",
       " 'author_flair_css_class',\n",
       " 'author_flair_richtext',\n",
       " 'author_flair_template_id',\n",
       " 'author_flair_text',\n",
       " 'author_flair_text_color',\n",
       " 'author_flair_type',\n",
       " 'author_fullname',\n",
       " 'author_patreon_flair',\n",
       " 'author_premium',\n",
       " 'awarders',\n",
       " 'can_mod_post',\n",
       " 'contest_mode',\n",
       " 'created_utc',\n",
       " 'domain',\n",
       " 'full_link',\n",
       " 'gildings',\n",
       " 'id',\n",
       " 'is_crosspostable',\n",
       " 'is_meta',\n",
       " 'is_original_content',\n",
       " 'is_reddit_media_domain',\n",
       " 'is_robot_indexable',\n",
       " 'is_self',\n",
       " 'is_video',\n",
       " 'link_flair_background_color',\n",
       " 'link_flair_css_class',\n",
       " 'link_flair_richtext',\n",
       " 'link_flair_template_id',\n",
       " 'link_flair_text',\n",
       " 'link_flair_text_color',\n",
       " 'link_flair_type',\n",
       " 'locked',\n",
       " 'media_only',\n",
       " 'no_follow',\n",
       " 'num_comments',\n",
       " 'num_crossposts',\n",
       " 'over_18',\n",
       " 'parent_whitelist_status',\n",
       " 'permalink',\n",
       " 'pinned',\n",
       " 'pwls',\n",
       " 'retrieved_on',\n",
       " 'score',\n",
       " 'selftext',\n",
       " 'send_replies',\n",
       " 'spoiler',\n",
       " 'stickied',\n",
       " 'subreddit',\n",
       " 'subreddit_id',\n",
       " 'subreddit_subscribers',\n",
       " 'subreddit_type',\n",
       " 'thumbnail',\n",
       " 'title',\n",
       " 'total_awards_received',\n",
       " 'treatment_tags',\n",
       " 'upvote_ratio',\n",
       " 'url',\n",
       " 'whitelist_status',\n",
       " 'wls',\n",
       " 'author_flair_background_color',\n",
       " 'removed_by_category',\n",
       " 'edited',\n",
       " 'banned_by',\n",
       " 'post_hint',\n",
       " 'preview',\n",
       " 'thumbnail_height',\n",
       " 'thumbnail_width',\n",
       " 'url_overridden_by_dest',\n",
       " 'gallery_data',\n",
       " 'is_gallery',\n",
       " 'media_metadata',\n",
       " 'media',\n",
       " 'media_embed',\n",
       " 'secure_media',\n",
       " 'secure_media_embed',\n",
       " 'author_cakeday',\n",
       " 'is_created_from_ads_ui',\n",
       " 'author_is_blocked',\n",
       " 'gilded',\n",
       " 'distinguished',\n",
       " 'suggested_sort',\n",
       " 'top_awarded_type',\n",
       " 'removal_reason',\n",
       " 'crosspost_parent',\n",
       " 'crosspost_parent_list',\n",
       " 'live_audio']"
      ]
     },
     "execution_count": 88,
     "metadata": {},
     "output_type": "execute_result"
    }
   ],
   "source": [
    "list(dfRaw.columns)"
   ]
  },
  {
   "cell_type": "markdown",
   "metadata": {},
   "source": [
    "We decided to select only a few characteristics to keep, i.e., id number, author, title, link flair text (category), score, upvote ratio, number of comments, and author flair text (which would be indicative of age)"
   ]
  },
  {
   "cell_type": "code",
   "execution_count": 154,
   "metadata": {},
   "outputs": [
    {
     "data": {
      "text/html": [
       "<div>\n",
       "<style scoped>\n",
       "    .dataframe tbody tr th:only-of-type {\n",
       "        vertical-align: middle;\n",
       "    }\n",
       "\n",
       "    .dataframe tbody tr th {\n",
       "        vertical-align: top;\n",
       "    }\n",
       "\n",
       "    .dataframe thead th {\n",
       "        text-align: right;\n",
       "    }\n",
       "</style>\n",
       "<table border=\"1\" class=\"dataframe\">\n",
       "  <thead>\n",
       "    <tr style=\"text-align: right;\">\n",
       "      <th></th>\n",
       "      <th>id</th>\n",
       "      <th>author</th>\n",
       "      <th>title</th>\n",
       "      <th>link_flair_text</th>\n",
       "      <th>score</th>\n",
       "      <th>upvote_ratio</th>\n",
       "      <th>num_comments</th>\n",
       "      <th>author_flair_text</th>\n",
       "    </tr>\n",
       "  </thead>\n",
       "  <tbody>\n",
       "    <tr>\n",
       "      <th>0</th>\n",
       "      <td>lt0yrt</td>\n",
       "      <td>OWO_UDEAD</td>\n",
       "      <td>im bored, who have interesting story to tell</td>\n",
       "      <td>Social</td>\n",
       "      <td>8</td>\n",
       "      <td>0.80</td>\n",
       "      <td>48</td>\n",
       "      <td>17</td>\n",
       "    </tr>\n",
       "    <tr>\n",
       "      <th>1</th>\n",
       "      <td>lt0yl2</td>\n",
       "      <td>[deleted]</td>\n",
       "      <td>its raininggggggggggggg</td>\n",
       "      <td>Other</td>\n",
       "      <td>5</td>\n",
       "      <td>1.00</td>\n",
       "      <td>16</td>\n",
       "      <td>NaN</td>\n",
       "    </tr>\n",
       "    <tr>\n",
       "      <th>2</th>\n",
       "      <td>lt0yjt</td>\n",
       "      <td>[deleted]</td>\n",
       "      <td>i want the world slugsoul to be engraved into ...</td>\n",
       "      <td>Art</td>\n",
       "      <td>2</td>\n",
       "      <td>0.75</td>\n",
       "      <td>6</td>\n",
       "      <td>NaN</td>\n",
       "    </tr>\n",
       "    <tr>\n",
       "      <th>3</th>\n",
       "      <td>lt0yip</td>\n",
       "      <td>MidiMidi_445</td>\n",
       "      <td>anyone need someone to talk to?</td>\n",
       "      <td>Serious</td>\n",
       "      <td>4</td>\n",
       "      <td>0.84</td>\n",
       "      <td>13</td>\n",
       "      <td>15</td>\n",
       "    </tr>\n",
       "    <tr>\n",
       "      <th>4</th>\n",
       "      <td>lt0y1b</td>\n",
       "      <td>j_p_x_f_r_d</td>\n",
       "      <td>I'm bored so ask me anything you want smh</td>\n",
       "      <td>Other</td>\n",
       "      <td>1</td>\n",
       "      <td>1.00</td>\n",
       "      <td>2</td>\n",
       "      <td>14</td>\n",
       "    </tr>\n",
       "  </tbody>\n",
       "</table>\n",
       "</div>"
      ],
      "text/plain": [
       "       id        author                                              title  \\\n",
       "0  lt0yrt     OWO_UDEAD       im bored, who have interesting story to tell   \n",
       "1  lt0yl2     [deleted]                            its raininggggggggggggg   \n",
       "2  lt0yjt     [deleted]  i want the world slugsoul to be engraved into ...   \n",
       "3  lt0yip  MidiMidi_445                    anyone need someone to talk to?   \n",
       "4  lt0y1b   j_p_x_f_r_d          I'm bored so ask me anything you want smh   \n",
       "\n",
       "  link_flair_text  score  upvote_ratio  num_comments author_flair_text  \n",
       "0          Social      8          0.80            48                17  \n",
       "1           Other      5          1.00            16               NaN  \n",
       "2             Art      2          0.75             6               NaN  \n",
       "3         Serious      4          0.84            13                15  \n",
       "4           Other      1          1.00             2                14  "
      ]
     },
     "execution_count": 154,
     "metadata": {},
     "output_type": "execute_result"
    }
   ],
   "source": [
    "# keep only necessary columns\n",
    "df = dfRaw[['id','author','title', 'link_flair_text', 'score','upvote_ratio', 'num_comments', 'author_flair_text']]\n",
    "# also maybe add contains media/picture, post length\n",
    "# make boxplot w/ age & link_flair_text\n",
    "df.head()"
   ]
  },
  {
   "cell_type": "code",
   "execution_count": 96,
   "metadata": {},
   "outputs": [
    {
     "data": {
      "text/plain": [
       "array(['17', nan, '15', '14', '13', '2 MILLION ATTENDEE', '16', '18',\n",
       "       '16 | Bootleg psychologist', '19', 'OLD',\n",
       "       'Springtime 🎋 Playlist Winner', '🎉 1,000,000 Attendee! 🎉',\n",
       "       '💥1,500,000 Attendee💥', '🎂 10 year anniversary attendee 🎂',\n",
       "       '16, MOD', 'Best user 2020', '18 | 🔰 Sorter of /new', '16 | Mod',\n",
       "       '20 | You will always matter', '16; Best Original Comment of 2018',\n",
       "       '18 | Pisscord Mod', 'Team Kiwi Bird ',\n",
       "       '17 | discord.gg/teenagers', '❤ 17 I #1 Homie ❤',\n",
       "       '17 | mod | she/her', '16 | Bedenke das Ende',\n",
       "       'Best wholesome submission 2020', '15 | Moderator',\n",
       "       '200K Attendee', \"14 | feelin' cute, might ban someone later idk\",\n",
       "       '17 | mod | she/her | Christian ✞ ', '900K Attendee',\n",
       "       '🎉 500K Attendee 🎉', '700K Attendee',\n",
       "       '200K Attendee; Best Female Selfie of 2017', '400K Attendee',\n",
       "       '19 | Best creative post 2020', '16 | MOD | she/her | dQw4w9WgXcQ',\n",
       "       '❤ 18 I #1 Homie ❤', '16; Best Inside Joke of 2019 ',\n",
       "       'Best helpful advice 2020', '16 | TG + Reddit Mod', 'Team Gibby',\n",
       "       '300K Attendee', '20 | You will always matter 💖', 'Mod guy ',\n",
       "       'Best creative post 2020', '18 | March Madness Finalist', '19 | 🐌',\n",
       "       '800K Attendee', '17 | TG + Reddit Mod',\n",
       "       '15 | Just a normal mod, nothing to see here',\n",
       "       'OLD / VERIFIED College Admissions Expert', '15 | Literally 1984',\n",
       "       '18 | discord.gg/teenagers', '17 | Cat. Not a hooman',\n",
       "       '17 | Loves Kirby the most', '15 | Mod', 'Best mod 2020',\n",
       "       '16 | Best inside joke & meme of 2020'], dtype=object)"
      ]
     },
     "execution_count": 96,
     "metadata": {},
     "output_type": "execute_result"
    }
   ],
   "source": [
    "# examine different values of author_flair_text\n",
    "df.author_flair_text.unique()"
   ]
  },
  {
   "cell_type": "markdown",
   "metadata": {},
   "source": [
    "We then kept only the submissions with an \"author_flair_text\" that states their age."
   ]
  },
  {
   "cell_type": "code",
   "execution_count": 155,
   "metadata": {},
   "outputs": [
    {
     "name": "stdout",
     "output_type": "stream",
     "text": [
      "259669\n"
     ]
    }
   ],
   "source": [
    "listAges = ['13','14','15','16','17','18', '19', 'OLD']\n",
    "df = df[df[\"author_flair_text\"].isin(listAges)]\n",
    "df = df.rename(columns={\"author_flair_text\": \"age\"})\n",
    "#df['age'] = pd.to_numeric(df.author_flair_text)\n",
    "#df.drop(columns='author_flair_text')\n",
    "\n",
    "print(df.shape[0])\n",
    "df.to_csv('df_cleaned.csv',header=True)"
   ]
  },
  {
   "cell_type": "markdown",
   "metadata": {},
   "source": [
    "Adding another column: is there a swear word in the title? 1 if yes, 0 if no."
   ]
  },
  {
   "cell_type": "code",
   "execution_count": 156,
   "metadata": {},
   "outputs": [],
   "source": [
    "swearList = ['fuck', 'shit', 'bitch', 'crap', 'dick','pussy','ass','crap','damn','hell','cunt', 'slut','cock']\n",
    "df['swear'] = df['title'].apply(lambda x: 1 if any(substring in x.lower() for substring in swearList)\n",
    "                             else 0)"
   ]
  },
  {
   "cell_type": "code",
   "execution_count": 157,
   "metadata": {},
   "outputs": [
    {
     "data": {
      "text/html": [
       "<div>\n",
       "<style scoped>\n",
       "    .dataframe tbody tr th:only-of-type {\n",
       "        vertical-align: middle;\n",
       "    }\n",
       "\n",
       "    .dataframe tbody tr th {\n",
       "        vertical-align: top;\n",
       "    }\n",
       "\n",
       "    .dataframe thead th {\n",
       "        text-align: right;\n",
       "    }\n",
       "</style>\n",
       "<table border=\"1\" class=\"dataframe\">\n",
       "  <thead>\n",
       "    <tr style=\"text-align: right;\">\n",
       "      <th></th>\n",
       "      <th>id</th>\n",
       "      <th>author</th>\n",
       "      <th>title</th>\n",
       "      <th>link_flair_text</th>\n",
       "      <th>score</th>\n",
       "      <th>upvote_ratio</th>\n",
       "      <th>num_comments</th>\n",
       "      <th>age</th>\n",
       "      <th>swear</th>\n",
       "    </tr>\n",
       "  </thead>\n",
       "  <tbody>\n",
       "    <tr>\n",
       "      <th>499990</th>\n",
       "      <td>l7vnp5</td>\n",
       "      <td>XiphiaLikesBones</td>\n",
       "      <td>This song is on loop in my head constantly and...</td>\n",
       "      <td>Media</td>\n",
       "      <td>2</td>\n",
       "      <td>1.0</td>\n",
       "      <td>3</td>\n",
       "      <td>16</td>\n",
       "      <td>0</td>\n",
       "    </tr>\n",
       "    <tr>\n",
       "      <th>499992</th>\n",
       "      <td>l7vnev</td>\n",
       "      <td>Mg-rod-sim</td>\n",
       "      <td>Man fuck origami</td>\n",
       "      <td>Other</td>\n",
       "      <td>1</td>\n",
       "      <td>1.0</td>\n",
       "      <td>7</td>\n",
       "      <td>15</td>\n",
       "      <td>1</td>\n",
       "    </tr>\n",
       "    <tr>\n",
       "      <th>499997</th>\n",
       "      <td>l7y5k9</td>\n",
       "      <td>that1redditer0703</td>\n",
       "      <td>I know the actual winner of the Kong V Godzill...</td>\n",
       "      <td>Advice</td>\n",
       "      <td>1</td>\n",
       "      <td>1.0</td>\n",
       "      <td>8</td>\n",
       "      <td>17</td>\n",
       "      <td>0</td>\n",
       "    </tr>\n",
       "    <tr>\n",
       "      <th>499998</th>\n",
       "      <td>l7y5h1</td>\n",
       "      <td>Basic_Requirement561</td>\n",
       "      <td>Stonks</td>\n",
       "      <td>Other</td>\n",
       "      <td>1</td>\n",
       "      <td>1.0</td>\n",
       "      <td>0</td>\n",
       "      <td>15</td>\n",
       "      <td>0</td>\n",
       "    </tr>\n",
       "    <tr>\n",
       "      <th>499999</th>\n",
       "      <td>l7y4xs</td>\n",
       "      <td>DarkDelight__</td>\n",
       "      <td>Siege anyone?</td>\n",
       "      <td>Social</td>\n",
       "      <td>1</td>\n",
       "      <td>1.0</td>\n",
       "      <td>4</td>\n",
       "      <td>15</td>\n",
       "      <td>0</td>\n",
       "    </tr>\n",
       "  </tbody>\n",
       "</table>\n",
       "</div>"
      ],
      "text/plain": [
       "            id                author  \\\n",
       "499990  l7vnp5      XiphiaLikesBones   \n",
       "499992  l7vnev            Mg-rod-sim   \n",
       "499997  l7y5k9     that1redditer0703   \n",
       "499998  l7y5h1  Basic_Requirement561   \n",
       "499999  l7y4xs         DarkDelight__   \n",
       "\n",
       "                                                    title link_flair_text  \\\n",
       "499990  This song is on loop in my head constantly and...           Media   \n",
       "499992                                   Man fuck origami           Other   \n",
       "499997  I know the actual winner of the Kong V Godzill...          Advice   \n",
       "499998                                             Stonks           Other   \n",
       "499999                                      Siege anyone?          Social   \n",
       "\n",
       "        score  upvote_ratio  num_comments age  swear  \n",
       "499990      2           1.0             3  16      0  \n",
       "499992      1           1.0             7  15      1  \n",
       "499997      1           1.0             8  17      0  \n",
       "499998      1           1.0             0  15      0  \n",
       "499999      1           1.0             4  15      0  "
      ]
     },
     "execution_count": 157,
     "metadata": {},
     "output_type": "execute_result"
    }
   ],
   "source": [
    "df.tail(5)"
   ]
  },
  {
   "cell_type": "markdown",
   "metadata": {},
   "source": [
    "Here, we are adding two new columns for title character length and username character length, which we will end up usinnng in the models rather than the title and author themselves."
   ]
  },
  {
   "cell_type": "code",
   "execution_count": 158,
   "metadata": {},
   "outputs": [
    {
     "data": {
      "text/html": [
       "<div>\n",
       "<style scoped>\n",
       "    .dataframe tbody tr th:only-of-type {\n",
       "        vertical-align: middle;\n",
       "    }\n",
       "\n",
       "    .dataframe tbody tr th {\n",
       "        vertical-align: top;\n",
       "    }\n",
       "\n",
       "    .dataframe thead th {\n",
       "        text-align: right;\n",
       "    }\n",
       "</style>\n",
       "<table border=\"1\" class=\"dataframe\">\n",
       "  <thead>\n",
       "    <tr style=\"text-align: right;\">\n",
       "      <th></th>\n",
       "      <th>id</th>\n",
       "      <th>author</th>\n",
       "      <th>title</th>\n",
       "      <th>link_flair_text</th>\n",
       "      <th>score</th>\n",
       "      <th>upvote_ratio</th>\n",
       "      <th>num_comments</th>\n",
       "      <th>age</th>\n",
       "      <th>swear</th>\n",
       "      <th>title_length</th>\n",
       "      <th>author_length</th>\n",
       "    </tr>\n",
       "  </thead>\n",
       "  <tbody>\n",
       "    <tr>\n",
       "      <th>499990</th>\n",
       "      <td>l7vnp5</td>\n",
       "      <td>XiphiaLikesBones</td>\n",
       "      <td>This song is on loop in my head constantly and...</td>\n",
       "      <td>Media</td>\n",
       "      <td>2</td>\n",
       "      <td>1.0</td>\n",
       "      <td>3</td>\n",
       "      <td>16</td>\n",
       "      <td>0</td>\n",
       "      <td>70</td>\n",
       "      <td>16</td>\n",
       "    </tr>\n",
       "    <tr>\n",
       "      <th>499992</th>\n",
       "      <td>l7vnev</td>\n",
       "      <td>Mg-rod-sim</td>\n",
       "      <td>Man fuck origami</td>\n",
       "      <td>Other</td>\n",
       "      <td>1</td>\n",
       "      <td>1.0</td>\n",
       "      <td>7</td>\n",
       "      <td>15</td>\n",
       "      <td>1</td>\n",
       "      <td>16</td>\n",
       "      <td>10</td>\n",
       "    </tr>\n",
       "    <tr>\n",
       "      <th>499997</th>\n",
       "      <td>l7y5k9</td>\n",
       "      <td>that1redditer0703</td>\n",
       "      <td>I know the actual winner of the Kong V Godzill...</td>\n",
       "      <td>Advice</td>\n",
       "      <td>1</td>\n",
       "      <td>1.0</td>\n",
       "      <td>8</td>\n",
       "      <td>17</td>\n",
       "      <td>0</td>\n",
       "      <td>53</td>\n",
       "      <td>17</td>\n",
       "    </tr>\n",
       "    <tr>\n",
       "      <th>499998</th>\n",
       "      <td>l7y5h1</td>\n",
       "      <td>Basic_Requirement561</td>\n",
       "      <td>Stonks</td>\n",
       "      <td>Other</td>\n",
       "      <td>1</td>\n",
       "      <td>1.0</td>\n",
       "      <td>0</td>\n",
       "      <td>15</td>\n",
       "      <td>0</td>\n",
       "      <td>6</td>\n",
       "      <td>20</td>\n",
       "    </tr>\n",
       "    <tr>\n",
       "      <th>499999</th>\n",
       "      <td>l7y4xs</td>\n",
       "      <td>DarkDelight__</td>\n",
       "      <td>Siege anyone?</td>\n",
       "      <td>Social</td>\n",
       "      <td>1</td>\n",
       "      <td>1.0</td>\n",
       "      <td>4</td>\n",
       "      <td>15</td>\n",
       "      <td>0</td>\n",
       "      <td>13</td>\n",
       "      <td>13</td>\n",
       "    </tr>\n",
       "  </tbody>\n",
       "</table>\n",
       "</div>"
      ],
      "text/plain": [
       "            id                author  \\\n",
       "499990  l7vnp5      XiphiaLikesBones   \n",
       "499992  l7vnev            Mg-rod-sim   \n",
       "499997  l7y5k9     that1redditer0703   \n",
       "499998  l7y5h1  Basic_Requirement561   \n",
       "499999  l7y4xs         DarkDelight__   \n",
       "\n",
       "                                                    title link_flair_text  \\\n",
       "499990  This song is on loop in my head constantly and...           Media   \n",
       "499992                                   Man fuck origami           Other   \n",
       "499997  I know the actual winner of the Kong V Godzill...          Advice   \n",
       "499998                                             Stonks           Other   \n",
       "499999                                      Siege anyone?          Social   \n",
       "\n",
       "        score  upvote_ratio  num_comments age  swear  title_length  \\\n",
       "499990      2           1.0             3  16      0            70   \n",
       "499992      1           1.0             7  15      1            16   \n",
       "499997      1           1.0             8  17      0            53   \n",
       "499998      1           1.0             0  15      0             6   \n",
       "499999      1           1.0             4  15      0            13   \n",
       "\n",
       "        author_length  \n",
       "499990             16  \n",
       "499992             10  \n",
       "499997             17  \n",
       "499998             20  \n",
       "499999             13  "
      ]
     },
     "execution_count": 158,
     "metadata": {},
     "output_type": "execute_result"
    }
   ],
   "source": [
    "df['title_length']=df['title'].str.len()\n",
    "df['author_length'] = df['author'].str.len()\n",
    "df.tail()"
   ]
  },
  {
   "cell_type": "markdown",
   "metadata": {},
   "source": [
    "### Splitting the data into train-test (80:20 split)"
   ]
  },
  {
   "cell_type": "code",
   "execution_count": 159,
   "metadata": {},
   "outputs": [
    {
     "name": "stdout",
     "output_type": "stream",
     "text": [
      "207735\n"
     ]
    },
    {
     "data": {
      "text/plain": [
       "259669"
      ]
     },
     "execution_count": 159,
     "metadata": {},
     "output_type": "execute_result"
    }
   ],
   "source": [
    "train = random.sample(range(df.shape[0]),round(df.shape[0]*.8))\n",
    "test= range(df.shape[0])\n",
    "dfTrain = df.iloc[train]\n",
    "print(dfTrain.shape[0])\n",
    "dfTest = df.drop(df.iloc[train].index)\n",
    "dfTest.shape[0]\n",
    "dfTest.shape[0] + dfTrain.shape[0]"
   ]
  },
  {
   "cell_type": "markdown",
   "metadata": {},
   "source": [
    "## Exploratory Data Analysis & Visualizations"
   ]
  },
  {
   "cell_type": "markdown",
   "metadata": {},
   "source": [
    "Creating a new dataset based on the training data that adds a column of ages as numeric values to calculate summary statistics and correlations; however, any age of 'OLD' needs to be dropped in order for this to work."
   ]
  },
  {
   "cell_type": "code",
   "execution_count": 160,
   "metadata": {},
   "outputs": [
    {
     "data": {
      "text/html": [
       "<div>\n",
       "<style scoped>\n",
       "    .dataframe tbody tr th:only-of-type {\n",
       "        vertical-align: middle;\n",
       "    }\n",
       "\n",
       "    .dataframe tbody tr th {\n",
       "        vertical-align: top;\n",
       "    }\n",
       "\n",
       "    .dataframe thead th {\n",
       "        text-align: right;\n",
       "    }\n",
       "</style>\n",
       "<table border=\"1\" class=\"dataframe\">\n",
       "  <thead>\n",
       "    <tr style=\"text-align: right;\">\n",
       "      <th></th>\n",
       "      <th>id</th>\n",
       "      <th>author</th>\n",
       "      <th>title</th>\n",
       "      <th>link_flair_text</th>\n",
       "      <th>score</th>\n",
       "      <th>upvote_ratio</th>\n",
       "      <th>num_comments</th>\n",
       "      <th>age</th>\n",
       "      <th>swear</th>\n",
       "      <th>title_length</th>\n",
       "      <th>author_length</th>\n",
       "      <th>age_num</th>\n",
       "    </tr>\n",
       "  </thead>\n",
       "  <tbody>\n",
       "    <tr>\n",
       "      <th>489144</th>\n",
       "      <td>qopj6c</td>\n",
       "      <td>Aryan_4657</td>\n",
       "      <td>I have a feelings for a girl but i dont know i...</td>\n",
       "      <td>Advice</td>\n",
       "      <td>1</td>\n",
       "      <td>1.0</td>\n",
       "      <td>0</td>\n",
       "      <td>14</td>\n",
       "      <td>0</td>\n",
       "      <td>75</td>\n",
       "      <td>10</td>\n",
       "      <td>14</td>\n",
       "    </tr>\n",
       "    <tr>\n",
       "      <th>400116</th>\n",
       "      <td>od8rat</td>\n",
       "      <td>PixelDestroyer07</td>\n",
       "      <td>My three little brothers are-</td>\n",
       "      <td>Other</td>\n",
       "      <td>1</td>\n",
       "      <td>1.0</td>\n",
       "      <td>7</td>\n",
       "      <td>14</td>\n",
       "      <td>0</td>\n",
       "      <td>29</td>\n",
       "      <td>16</td>\n",
       "      <td>14</td>\n",
       "    </tr>\n",
       "    <tr>\n",
       "      <th>215980</th>\n",
       "      <td>p1tl4p</td>\n",
       "      <td>BaLsAmIc007</td>\n",
       "      <td>shuba shuba duck (´◉◞⊖◟◉｀)</td>\n",
       "      <td>Art</td>\n",
       "      <td>1</td>\n",
       "      <td>1.0</td>\n",
       "      <td>4</td>\n",
       "      <td>17</td>\n",
       "      <td>0</td>\n",
       "      <td>26</td>\n",
       "      <td>11</td>\n",
       "      <td>17</td>\n",
       "    </tr>\n",
       "    <tr>\n",
       "      <th>460593</th>\n",
       "      <td>pwwzez</td>\n",
       "      <td>coles2345</td>\n",
       "      <td>Shifting realities and religion are synonymous...</td>\n",
       "      <td>Rant</td>\n",
       "      <td>1</td>\n",
       "      <td>1.0</td>\n",
       "      <td>2</td>\n",
       "      <td>14</td>\n",
       "      <td>0</td>\n",
       "      <td>76</td>\n",
       "      <td>9</td>\n",
       "      <td>14</td>\n",
       "    </tr>\n",
       "    <tr>\n",
       "      <th>34919</th>\n",
       "      <td>jwz9z8</td>\n",
       "      <td>SomeoneThatLikesRBLX</td>\n",
       "      <td>posting horny shitposts every day until I_____...</td>\n",
       "      <td>Other</td>\n",
       "      <td>2</td>\n",
       "      <td>0.6</td>\n",
       "      <td>58</td>\n",
       "      <td>14</td>\n",
       "      <td>1</td>\n",
       "      <td>55</td>\n",
       "      <td>20</td>\n",
       "      <td>14</td>\n",
       "    </tr>\n",
       "  </tbody>\n",
       "</table>\n",
       "</div>"
      ],
      "text/plain": [
       "            id                author  \\\n",
       "489144  qopj6c            Aryan_4657   \n",
       "400116  od8rat      PixelDestroyer07   \n",
       "215980  p1tl4p           BaLsAmIc007   \n",
       "460593  pwwzez             coles2345   \n",
       "34919   jwz9z8  SomeoneThatLikesRBLX   \n",
       "\n",
       "                                                    title link_flair_text  \\\n",
       "489144  I have a feelings for a girl but i dont know i...          Advice   \n",
       "400116                      My three little brothers are-           Other   \n",
       "215980                         shuba shuba duck (´◉◞⊖◟◉｀)             Art   \n",
       "460593  Shifting realities and religion are synonymous...            Rant   \n",
       "34919   posting horny shitposts every day until I_____...           Other   \n",
       "\n",
       "        score  upvote_ratio  num_comments age  swear  title_length  \\\n",
       "489144      1           1.0             0  14      0            75   \n",
       "400116      1           1.0             7  14      0            29   \n",
       "215980      1           1.0             4  17      0            26   \n",
       "460593      1           1.0             2  14      0            76   \n",
       "34919       2           0.6            58  14      1            55   \n",
       "\n",
       "        author_length  age_num  \n",
       "489144             10       14  \n",
       "400116             16       14  \n",
       "215980             11       17  \n",
       "460593              9       14  \n",
       "34919              20       14  "
      ]
     },
     "execution_count": 160,
     "metadata": {},
     "output_type": "execute_result"
    }
   ],
   "source": [
    "dfTrainNumAge = dfTrain.copy()\n",
    "dfTrainNumAge = dfTrainNumAge[dfTrainNumAge.age != 'OLD']\n",
    "dfTrainNumAge['age_num'] = pd.to_numeric(dfTrainNumAge.age)\n",
    "dfTrainNumAge.head()\n",
    "\n",
    "#df['age'] = pd.to_numeric(df.author_flair_text)\n",
    "#df.drop(columns='author_flair_text')"
   ]
  },
  {
   "cell_type": "code",
   "execution_count": 161,
   "metadata": {},
   "outputs": [
    {
     "data": {
      "text/html": [
       "<div>\n",
       "<style scoped>\n",
       "    .dataframe tbody tr th:only-of-type {\n",
       "        vertical-align: middle;\n",
       "    }\n",
       "\n",
       "    .dataframe tbody tr th {\n",
       "        vertical-align: top;\n",
       "    }\n",
       "\n",
       "    .dataframe thead th {\n",
       "        text-align: right;\n",
       "    }\n",
       "</style>\n",
       "<table border=\"1\" class=\"dataframe\">\n",
       "  <thead>\n",
       "    <tr style=\"text-align: right;\">\n",
       "      <th></th>\n",
       "      <th>score</th>\n",
       "      <th>upvote_ratio</th>\n",
       "      <th>num_comments</th>\n",
       "      <th>swear</th>\n",
       "      <th>title_length</th>\n",
       "      <th>author_length</th>\n",
       "      <th>age_num</th>\n",
       "    </tr>\n",
       "  </thead>\n",
       "  <tbody>\n",
       "    <tr>\n",
       "      <th>count</th>\n",
       "      <td>206627.000000</td>\n",
       "      <td>206627.000000</td>\n",
       "      <td>206627.000000</td>\n",
       "      <td>206627.000000</td>\n",
       "      <td>206627.000000</td>\n",
       "      <td>206627.000000</td>\n",
       "      <td>206627.000000</td>\n",
       "    </tr>\n",
       "    <tr>\n",
       "      <th>mean</th>\n",
       "      <td>7.309117</td>\n",
       "      <td>0.986317</td>\n",
       "      <td>15.742028</td>\n",
       "      <td>0.088551</td>\n",
       "      <td>45.022049</td>\n",
       "      <td>12.621385</td>\n",
       "      <td>15.462369</td>\n",
       "    </tr>\n",
       "    <tr>\n",
       "      <th>std</th>\n",
       "      <td>289.863182</td>\n",
       "      <td>0.062953</td>\n",
       "      <td>130.468241</td>\n",
       "      <td>0.284095</td>\n",
       "      <td>33.910421</td>\n",
       "      <td>3.834766</td>\n",
       "      <td>1.539975</td>\n",
       "    </tr>\n",
       "    <tr>\n",
       "      <th>min</th>\n",
       "      <td>0.000000</td>\n",
       "      <td>0.090000</td>\n",
       "      <td>0.000000</td>\n",
       "      <td>0.000000</td>\n",
       "      <td>1.000000</td>\n",
       "      <td>4.000000</td>\n",
       "      <td>13.000000</td>\n",
       "    </tr>\n",
       "    <tr>\n",
       "      <th>25%</th>\n",
       "      <td>1.000000</td>\n",
       "      <td>1.000000</td>\n",
       "      <td>2.000000</td>\n",
       "      <td>0.000000</td>\n",
       "      <td>23.000000</td>\n",
       "      <td>10.000000</td>\n",
       "      <td>14.000000</td>\n",
       "    </tr>\n",
       "    <tr>\n",
       "      <th>50%</th>\n",
       "      <td>1.000000</td>\n",
       "      <td>1.000000</td>\n",
       "      <td>7.000000</td>\n",
       "      <td>0.000000</td>\n",
       "      <td>36.000000</td>\n",
       "      <td>12.000000</td>\n",
       "      <td>15.000000</td>\n",
       "    </tr>\n",
       "    <tr>\n",
       "      <th>75%</th>\n",
       "      <td>1.000000</td>\n",
       "      <td>1.000000</td>\n",
       "      <td>14.000000</td>\n",
       "      <td>0.000000</td>\n",
       "      <td>57.000000</td>\n",
       "      <td>15.000000</td>\n",
       "      <td>17.000000</td>\n",
       "    </tr>\n",
       "    <tr>\n",
       "      <th>max</th>\n",
       "      <td>62139.000000</td>\n",
       "      <td>1.000000</td>\n",
       "      <td>25486.000000</td>\n",
       "      <td>1.000000</td>\n",
       "      <td>316.000000</td>\n",
       "      <td>20.000000</td>\n",
       "      <td>19.000000</td>\n",
       "    </tr>\n",
       "  </tbody>\n",
       "</table>\n",
       "</div>"
      ],
      "text/plain": [
       "               score   upvote_ratio   num_comments          swear  \\\n",
       "count  206627.000000  206627.000000  206627.000000  206627.000000   \n",
       "mean        7.309117       0.986317      15.742028       0.088551   \n",
       "std       289.863182       0.062953     130.468241       0.284095   \n",
       "min         0.000000       0.090000       0.000000       0.000000   \n",
       "25%         1.000000       1.000000       2.000000       0.000000   \n",
       "50%         1.000000       1.000000       7.000000       0.000000   \n",
       "75%         1.000000       1.000000      14.000000       0.000000   \n",
       "max     62139.000000       1.000000   25486.000000       1.000000   \n",
       "\n",
       "        title_length  author_length        age_num  \n",
       "count  206627.000000  206627.000000  206627.000000  \n",
       "mean       45.022049      12.621385      15.462369  \n",
       "std        33.910421       3.834766       1.539975  \n",
       "min         1.000000       4.000000      13.000000  \n",
       "25%        23.000000      10.000000      14.000000  \n",
       "50%        36.000000      12.000000      15.000000  \n",
       "75%        57.000000      15.000000      17.000000  \n",
       "max       316.000000      20.000000      19.000000  "
      ]
     },
     "execution_count": 161,
     "metadata": {},
     "output_type": "execute_result"
    }
   ],
   "source": [
    "dfTrainNumAge.describe()"
   ]
  },
  {
   "cell_type": "code",
   "execution_count": 23,
   "metadata": {},
   "outputs": [
    {
     "name": "stdout",
     "output_type": "stream",
     "text": [
      "22053\n",
      "39302\n",
      "47697\n",
      "44247\n",
      "31268\n",
      "16539\n",
      "5486\n",
      "1143\n"
     ]
    },
    {
     "data": {
      "text/plain": [
       "<BarContainer object of 8 artists>"
      ]
     },
     "execution_count": 23,
     "metadata": {},
     "output_type": "execute_result"
    },
    {
     "data": {
      "image/png": "[encoded data removed]",
      "text/plain": [
       "<Figure size 432x288 with 1 Axes>"
      ]
     },
     "metadata": {},
     "output_type": "display_data"
    }
   ],
   "source": [
    "groupAge = dfTrain.groupby(['age'])\n",
    "ageCount = []\n",
    "for num in sorted(dfTrain.age.unique()):\n",
    "    ageCount.append(groupAge.get_group(num).shape[0])\n",
    "    print(groupAge.get_group(num).shape[0])\n",
    "\n",
    "plt.bar(sorted(dfTrain.age.unique()), ageCount)"
   ]
  },
  {
   "cell_type": "markdown",
   "metadata": {},
   "source": [
    "Mean (self-reported) age of  teenagers posting on the subreddit is 15.46, with the most common age being 15."
   ]
  },
  {
   "cell_type": "code",
   "execution_count": 24,
   "metadata": {},
   "outputs": [
    {
     "data": {
      "text/plain": [
       "0.0888295183767781"
      ]
     },
     "execution_count": 24,
     "metadata": {},
     "output_type": "execute_result"
    }
   ],
   "source": [
    "dfTrain['swear'].value_counts()[1] / dfTrain.shape[0]"
   ]
  },
  {
   "cell_type": "markdown",
   "metadata": {},
   "source": [
    "On average, 8.9% of submissions contain at least one swear word in the title"
   ]
  },
  {
   "cell_type": "code",
   "execution_count": 25,
   "metadata": {},
   "outputs": [
    {
     "name": "stdout",
     "output_type": "stream",
     "text": [
      "13\n",
      "0.08334466965945676\n",
      "14\n",
      "0.0881634522416162\n",
      "15\n",
      "0.09117973876763738\n",
      "16\n",
      "0.09128302483784212\n",
      "17\n",
      "0.08740565434309837\n",
      "18\n",
      "0.08942499546526392\n",
      "19\n",
      "0.08439664600802041\n",
      "OLD\n",
      "0.07611548556430446\n"
     ]
    },
    {
     "data": {
      "text/plain": [
       "<BarContainer object of 8 artists>"
      ]
     },
     "execution_count": 25,
     "metadata": {},
     "output_type": "execute_result"
    },
    {
     "data": {
      "image/png": "[encoded data removed]",
      "text/plain": [
       "<Figure size 432x288 with 1 Axes>"
      ]
     },
     "metadata": {},
     "output_type": "display_data"
    }
   ],
   "source": [
    "# % of submissions containing swear words by age\n",
    "swearRate = []\n",
    "for num in sorted(dfTrain.age.unique()):\n",
    "    print(num)\n",
    "    print(dfTrain[dfTrain.age==num].swear.value_counts()[1] / dfTrain[dfTrain.age==num].shape[0])\n",
    "    swearRate.append(dfTrain[dfTrain.age==num].swear.value_counts()[1] / dfTrain[dfTrain.age==num].shape[0])\n",
    "# % of swear words peaks at ages 15 & 16\n",
    "\n",
    "plt.bar(sorted(dfTrain.age.unique()), swearRate)"
   ]
  },
  {
   "cell_type": "code",
   "execution_count": 130,
   "metadata": {},
   "outputs": [
    {
     "data": {
      "text/html": [
       "<style  type=\"text/css\" >\n",
       "    #T_a92c8f3e_52e4_11ec_9dd0_acde48001122row0_col0 {\n",
       "            background-color:  #b40426;\n",
       "        }    #T_a92c8f3e_52e4_11ec_9dd0_acde48001122row0_col1 {\n",
       "            background-color:  #3b4cc0;\n",
       "        }    #T_a92c8f3e_52e4_11ec_9dd0_acde48001122row0_col2 {\n",
       "            background-color:  #5b7ae5;\n",
       "        }    #T_a92c8f3e_52e4_11ec_9dd0_acde48001122row0_col3 {\n",
       "            background-color:  #3c4ec2;\n",
       "        }    #T_a92c8f3e_52e4_11ec_9dd0_acde48001122row0_col4 {\n",
       "            background-color:  #3b4cc0;\n",
       "        }    #T_a92c8f3e_52e4_11ec_9dd0_acde48001122row0_col5 {\n",
       "            background-color:  #445acc;\n",
       "        }    #T_a92c8f3e_52e4_11ec_9dd0_acde48001122row0_col6 {\n",
       "            background-color:  #4358cb;\n",
       "        }    #T_a92c8f3e_52e4_11ec_9dd0_acde48001122row1_col0 {\n",
       "            background-color:  #3b4cc0;\n",
       "        }    #T_a92c8f3e_52e4_11ec_9dd0_acde48001122row1_col1 {\n",
       "            background-color:  #b40426;\n",
       "        }    #T_a92c8f3e_52e4_11ec_9dd0_acde48001122row1_col2 {\n",
       "            background-color:  #3b4cc0;\n",
       "        }    #T_a92c8f3e_52e4_11ec_9dd0_acde48001122row1_col3 {\n",
       "            background-color:  #3b4cc0;\n",
       "        }    #T_a92c8f3e_52e4_11ec_9dd0_acde48001122row1_col4 {\n",
       "            background-color:  #3d50c3;\n",
       "        }    #T_a92c8f3e_52e4_11ec_9dd0_acde48001122row1_col5 {\n",
       "            background-color:  #4358cb;\n",
       "        }    #T_a92c8f3e_52e4_11ec_9dd0_acde48001122row1_col6 {\n",
       "            background-color:  #465ecf;\n",
       "        }    #T_a92c8f3e_52e4_11ec_9dd0_acde48001122row2_col0 {\n",
       "            background-color:  #5b7ae5;\n",
       "        }    #T_a92c8f3e_52e4_11ec_9dd0_acde48001122row2_col1 {\n",
       "            background-color:  #3b4cc0;\n",
       "        }    #T_a92c8f3e_52e4_11ec_9dd0_acde48001122row2_col2 {\n",
       "            background-color:  #b40426;\n",
       "        }    #T_a92c8f3e_52e4_11ec_9dd0_acde48001122row2_col3 {\n",
       "            background-color:  #3c4ec2;\n",
       "        }    #T_a92c8f3e_52e4_11ec_9dd0_acde48001122row2_col4 {\n",
       "            background-color:  #3c4ec2;\n",
       "        }    #T_a92c8f3e_52e4_11ec_9dd0_acde48001122row2_col5 {\n",
       "            background-color:  #4358cb;\n",
       "        }    #T_a92c8f3e_52e4_11ec_9dd0_acde48001122row2_col6 {\n",
       "            background-color:  #445acc;\n",
       "        }    #T_a92c8f3e_52e4_11ec_9dd0_acde48001122row3_col0 {\n",
       "            background-color:  #3d50c3;\n",
       "        }    #T_a92c8f3e_52e4_11ec_9dd0_acde48001122row3_col1 {\n",
       "            background-color:  #3c4ec2;\n",
       "        }    #T_a92c8f3e_52e4_11ec_9dd0_acde48001122row3_col2 {\n",
       "            background-color:  #3d50c3;\n",
       "        }    #T_a92c8f3e_52e4_11ec_9dd0_acde48001122row3_col3 {\n",
       "            background-color:  #b40426;\n",
       "        }    #T_a92c8f3e_52e4_11ec_9dd0_acde48001122row3_col4 {\n",
       "            background-color:  #5e7de7;\n",
       "        }    #T_a92c8f3e_52e4_11ec_9dd0_acde48001122row3_col5 {\n",
       "            background-color:  #455cce;\n",
       "        }    #T_a92c8f3e_52e4_11ec_9dd0_acde48001122row3_col6 {\n",
       "            background-color:  #445acc;\n",
       "        }    #T_a92c8f3e_52e4_11ec_9dd0_acde48001122row4_col0 {\n",
       "            background-color:  #3d50c3;\n",
       "        }    #T_a92c8f3e_52e4_11ec_9dd0_acde48001122row4_col1 {\n",
       "            background-color:  #4055c8;\n",
       "        }    #T_a92c8f3e_52e4_11ec_9dd0_acde48001122row4_col2 {\n",
       "            background-color:  #3e51c5;\n",
       "        }    #T_a92c8f3e_52e4_11ec_9dd0_acde48001122row4_col3 {\n",
       "            background-color:  #5f7fe8;\n",
       "        }    #T_a92c8f3e_52e4_11ec_9dd0_acde48001122row4_col4 {\n",
       "            background-color:  #b40426;\n",
       "        }    #T_a92c8f3e_52e4_11ec_9dd0_acde48001122row4_col5 {\n",
       "            background-color:  #4a63d3;\n",
       "        }    #T_a92c8f3e_52e4_11ec_9dd0_acde48001122row4_col6 {\n",
       "            background-color:  #5572df;\n",
       "        }    #T_a92c8f3e_52e4_11ec_9dd0_acde48001122row5_col0 {\n",
       "            background-color:  #3d50c3;\n",
       "        }    #T_a92c8f3e_52e4_11ec_9dd0_acde48001122row5_col1 {\n",
       "            background-color:  #3d50c3;\n",
       "        }    #T_a92c8f3e_52e4_11ec_9dd0_acde48001122row5_col2 {\n",
       "            background-color:  #3d50c3;\n",
       "        }    #T_a92c8f3e_52e4_11ec_9dd0_acde48001122row5_col3 {\n",
       "            background-color:  #3e51c5;\n",
       "        }    #T_a92c8f3e_52e4_11ec_9dd0_acde48001122row5_col4 {\n",
       "            background-color:  #4055c8;\n",
       "        }    #T_a92c8f3e_52e4_11ec_9dd0_acde48001122row5_col5 {\n",
       "            background-color:  #b40426;\n",
       "        }    #T_a92c8f3e_52e4_11ec_9dd0_acde48001122row5_col6 {\n",
       "            background-color:  #3b4cc0;\n",
       "        }    #T_a92c8f3e_52e4_11ec_9dd0_acde48001122row6_col0 {\n",
       "            background-color:  #3d50c3;\n",
       "        }    #T_a92c8f3e_52e4_11ec_9dd0_acde48001122row6_col1 {\n",
       "            background-color:  #4055c8;\n",
       "        }    #T_a92c8f3e_52e4_11ec_9dd0_acde48001122row6_col2 {\n",
       "            background-color:  #3e51c5;\n",
       "        }    #T_a92c8f3e_52e4_11ec_9dd0_acde48001122row6_col3 {\n",
       "            background-color:  #3d50c3;\n",
       "        }    #T_a92c8f3e_52e4_11ec_9dd0_acde48001122row6_col4 {\n",
       "            background-color:  #4c66d6;\n",
       "        }    #T_a92c8f3e_52e4_11ec_9dd0_acde48001122row6_col5 {\n",
       "            background-color:  #3b4cc0;\n",
       "        }    #T_a92c8f3e_52e4_11ec_9dd0_acde48001122row6_col6 {\n",
       "            background-color:  #b40426;\n",
       "        }</style>  \n",
       "<table id=\"T_a92c8f3e_52e4_11ec_9dd0_acde48001122\" > \n",
       "<thead>    <tr> \n",
       "        <th class=\"blank level0\" ></th> \n",
       "        <th class=\"col_heading level0 col0\" >score</th> \n",
       "        <th class=\"col_heading level0 col1\" >upvote_ratio</th> \n",
       "        <th class=\"col_heading level0 col2\" >num_comments</th> \n",
       "        <th class=\"col_heading level0 col3\" >swear</th> \n",
       "        <th class=\"col_heading level0 col4\" >title_length</th> \n",
       "        <th class=\"col_heading level0 col5\" >author_length</th> \n",
       "        <th class=\"col_heading level0 col6\" >age_num</th> \n",
       "    </tr></thead> \n",
       "<tbody>    <tr> \n",
       "        <th id=\"T_a92c8f3e_52e4_11ec_9dd0_acde48001122level0_row0\" class=\"row_heading level0 row0\" >score</th> \n",
       "        <td id=\"T_a92c8f3e_52e4_11ec_9dd0_acde48001122row0_col0\" class=\"data row0 col0\" >1</td> \n",
       "        <td id=\"T_a92c8f3e_52e4_11ec_9dd0_acde48001122row0_col1\" class=\"data row0 col1\" >-0.0121927</td> \n",
       "        <td id=\"T_a92c8f3e_52e4_11ec_9dd0_acde48001122row0_col2\" class=\"data row0 col2\" >0.0965771</td> \n",
       "        <td id=\"T_a92c8f3e_52e4_11ec_9dd0_acde48001122row0_col3\" class=\"data row0 col3\" >-0.00160499</td> \n",
       "        <td id=\"T_a92c8f3e_52e4_11ec_9dd0_acde48001122row0_col4\" class=\"data row0 col4\" >-0.00117602</td> \n",
       "        <td id=\"T_a92c8f3e_52e4_11ec_9dd0_acde48001122row0_col5\" class=\"data row0 col5\" >-0.000637184</td> \n",
       "        <td id=\"T_a92c8f3e_52e4_11ec_9dd0_acde48001122row0_col6\" class=\"data row0 col6\" >-0.00315846</td> \n",
       "    </tr>    <tr> \n",
       "        <th id=\"T_a92c8f3e_52e4_11ec_9dd0_acde48001122level0_row1\" class=\"row_heading level0 row1\" >upvote_ratio</th> \n",
       "        <td id=\"T_a92c8f3e_52e4_11ec_9dd0_acde48001122row1_col0\" class=\"data row1 col0\" >-0.0121927</td> \n",
       "        <td id=\"T_a92c8f3e_52e4_11ec_9dd0_acde48001122row1_col1\" class=\"data row1 col1\" >1</td> \n",
       "        <td id=\"T_a92c8f3e_52e4_11ec_9dd0_acde48001122row1_col2\" class=\"data row1 col2\" >-0.011746</td> \n",
       "        <td id=\"T_a92c8f3e_52e4_11ec_9dd0_acde48001122row1_col3\" class=\"data row1 col3\" >-0.00599778</td> \n",
       "        <td id=\"T_a92c8f3e_52e4_11ec_9dd0_acde48001122row1_col4\" class=\"data row1 col4\" >0.0085673</td> \n",
       "        <td id=\"T_a92c8f3e_52e4_11ec_9dd0_acde48001122row1_col5\" class=\"data row1 col5\" >-0.00127408</td> \n",
       "        <td id=\"T_a92c8f3e_52e4_11ec_9dd0_acde48001122row1_col6\" class=\"data row1 col6\" >0.00900299</td> \n",
       "    </tr>    <tr> \n",
       "        <th id=\"T_a92c8f3e_52e4_11ec_9dd0_acde48001122level0_row2\" class=\"row_heading level0 row2\" >num_comments</th> \n",
       "        <td id=\"T_a92c8f3e_52e4_11ec_9dd0_acde48001122row2_col0\" class=\"data row2 col0\" >0.0965771</td> \n",
       "        <td id=\"T_a92c8f3e_52e4_11ec_9dd0_acde48001122row2_col1\" class=\"data row2 col1\" >-0.011746</td> \n",
       "        <td id=\"T_a92c8f3e_52e4_11ec_9dd0_acde48001122row2_col2\" class=\"data row2 col2\" >1</td> \n",
       "        <td id=\"T_a92c8f3e_52e4_11ec_9dd0_acde48001122row2_col3\" class=\"data row2 col3\" >-0.00194005</td> \n",
       "        <td id=\"T_a92c8f3e_52e4_11ec_9dd0_acde48001122row2_col4\" class=\"data row2 col4\" >0.00308891</td> \n",
       "        <td id=\"T_a92c8f3e_52e4_11ec_9dd0_acde48001122row2_col5\" class=\"data row2 col5\" >-0.00292577</td> \n",
       "        <td id=\"T_a92c8f3e_52e4_11ec_9dd0_acde48001122row2_col6\" class=\"data row2 col6\" >0.00256823</td> \n",
       "    </tr>    <tr> \n",
       "        <th id=\"T_a92c8f3e_52e4_11ec_9dd0_acde48001122level0_row3\" class=\"row_heading level0 row3\" >swear</th> \n",
       "        <td id=\"T_a92c8f3e_52e4_11ec_9dd0_acde48001122row3_col0\" class=\"data row3 col0\" >-0.00160499</td> \n",
       "        <td id=\"T_a92c8f3e_52e4_11ec_9dd0_acde48001122row3_col1\" class=\"data row3 col1\" >-0.00599778</td> \n",
       "        <td id=\"T_a92c8f3e_52e4_11ec_9dd0_acde48001122row3_col2\" class=\"data row3 col2\" >-0.00194005</td> \n",
       "        <td id=\"T_a92c8f3e_52e4_11ec_9dd0_acde48001122row3_col3\" class=\"data row3 col3\" >1</td> \n",
       "        <td id=\"T_a92c8f3e_52e4_11ec_9dd0_acde48001122row3_col4\" class=\"data row3 col4\" >0.114703</td> \n",
       "        <td id=\"T_a92c8f3e_52e4_11ec_9dd0_acde48001122row3_col5\" class=\"data row3 col5\" >0.00628941</td> \n",
       "        <td id=\"T_a92c8f3e_52e4_11ec_9dd0_acde48001122row3_col6\" class=\"data row3 col6\" >0.00235493</td> \n",
       "    </tr>    <tr> \n",
       "        <th id=\"T_a92c8f3e_52e4_11ec_9dd0_acde48001122level0_row4\" class=\"row_heading level0 row4\" >title_length</th> \n",
       "        <td id=\"T_a92c8f3e_52e4_11ec_9dd0_acde48001122row4_col0\" class=\"data row4 col0\" >-0.00117602</td> \n",
       "        <td id=\"T_a92c8f3e_52e4_11ec_9dd0_acde48001122row4_col1\" class=\"data row4 col1\" >0.0085673</td> \n",
       "        <td id=\"T_a92c8f3e_52e4_11ec_9dd0_acde48001122row4_col2\" class=\"data row4 col2\" >0.00308891</td> \n",
       "        <td id=\"T_a92c8f3e_52e4_11ec_9dd0_acde48001122row4_col3\" class=\"data row4 col3\" >0.114703</td> \n",
       "        <td id=\"T_a92c8f3e_52e4_11ec_9dd0_acde48001122row4_col4\" class=\"data row4 col4\" >1</td> \n",
       "        <td id=\"T_a92c8f3e_52e4_11ec_9dd0_acde48001122row4_col5\" class=\"data row4 col5\" >0.0211188</td> \n",
       "        <td id=\"T_a92c8f3e_52e4_11ec_9dd0_acde48001122row4_col6\" class=\"data row4 col6\" >0.0589678</td> \n",
       "    </tr>    <tr> \n",
       "        <th id=\"T_a92c8f3e_52e4_11ec_9dd0_acde48001122level0_row5\" class=\"row_heading level0 row5\" >author_length</th> \n",
       "        <td id=\"T_a92c8f3e_52e4_11ec_9dd0_acde48001122row5_col0\" class=\"data row5 col0\" >-0.000637184</td> \n",
       "        <td id=\"T_a92c8f3e_52e4_11ec_9dd0_acde48001122row5_col1\" class=\"data row5 col1\" >-0.00127408</td> \n",
       "        <td id=\"T_a92c8f3e_52e4_11ec_9dd0_acde48001122row5_col2\" class=\"data row5 col2\" >-0.00292577</td> \n",
       "        <td id=\"T_a92c8f3e_52e4_11ec_9dd0_acde48001122row5_col3\" class=\"data row5 col3\" >0.00628941</td> \n",
       "        <td id=\"T_a92c8f3e_52e4_11ec_9dd0_acde48001122row5_col4\" class=\"data row5 col4\" >0.0211188</td> \n",
       "        <td id=\"T_a92c8f3e_52e4_11ec_9dd0_acde48001122row5_col5\" class=\"data row5 col5\" >1</td> \n",
       "        <td id=\"T_a92c8f3e_52e4_11ec_9dd0_acde48001122row5_col6\" class=\"data row5 col6\" >-0.033454</td> \n",
       "    </tr>    <tr> \n",
       "        <th id=\"T_a92c8f3e_52e4_11ec_9dd0_acde48001122level0_row6\" class=\"row_heading level0 row6\" >age_num</th> \n",
       "        <td id=\"T_a92c8f3e_52e4_11ec_9dd0_acde48001122row6_col0\" class=\"data row6 col0\" >-0.00315846</td> \n",
       "        <td id=\"T_a92c8f3e_52e4_11ec_9dd0_acde48001122row6_col1\" class=\"data row6 col1\" >0.00900299</td> \n",
       "        <td id=\"T_a92c8f3e_52e4_11ec_9dd0_acde48001122row6_col2\" class=\"data row6 col2\" >0.00256823</td> \n",
       "        <td id=\"T_a92c8f3e_52e4_11ec_9dd0_acde48001122row6_col3\" class=\"data row6 col3\" >0.00235493</td> \n",
       "        <td id=\"T_a92c8f3e_52e4_11ec_9dd0_acde48001122row6_col4\" class=\"data row6 col4\" >0.0589678</td> \n",
       "        <td id=\"T_a92c8f3e_52e4_11ec_9dd0_acde48001122row6_col5\" class=\"data row6 col5\" >-0.033454</td> \n",
       "        <td id=\"T_a92c8f3e_52e4_11ec_9dd0_acde48001122row6_col6\" class=\"data row6 col6\" >1</td> \n",
       "    </tr></tbody> \n",
       "</table> "
      ],
      "text/plain": [
       "<pandas.io.formats.style.Styler at 0x1ac00abdd8>"
      ]
     },
     "execution_count": 130,
     "metadata": {},
     "output_type": "execute_result"
    }
   ],
   "source": [
    "dfTrainNumAge.corr().style.background_gradient(cmap='coolwarm')"
   ]
  },
  {
   "cell_type": "markdown",
   "metadata": {},
   "source": [
    "Based on this correlation matrix, none of the predictor variables have a strong correlation with the age. Title length is the strongest out of all of them, with a slightly positive association with age."
   ]
  },
  {
   "cell_type": "code",
   "execution_count": 27,
   "metadata": {},
   "outputs": [
    {
     "data": {
      "text/plain": [
       "(0, 50)"
      ]
     },
     "execution_count": 27,
     "metadata": {},
     "output_type": "execute_result"
    },
    {
     "data": {
      "image/png": "[encoded data removed]",
      "text/plain": [
       "<Figure size 432x288 with 1 Axes>"
      ]
     },
     "metadata": {},
     "output_type": "display_data"
    }
   ],
   "source": [
    "dfTrain.boxplot(column = 'num_comments', by = 'age')\n",
    "plt.ylim(0,50)"
   ]
  },
  {
   "cell_type": "code",
   "execution_count": 28,
   "metadata": {},
   "outputs": [
    {
     "data": {
      "text/plain": [
       "(0, 100)"
      ]
     },
     "execution_count": 28,
     "metadata": {},
     "output_type": "execute_result"
    },
    {
     "data": {
      "image/png": "[encoded data removed]",
      "text/plain": [
       "<Figure size 432x288 with 1 Axes>"
      ]
     },
     "metadata": {},
     "output_type": "display_data"
    }
   ],
   "source": [
    "dfTrain.boxplot(column = 'title_length', by = 'age')\n",
    "plt.ylim(0,100)"
   ]
  },
  {
   "cell_type": "markdown",
   "metadata": {},
   "source": [
    "Based on the boxplot, it appears as though title character lengths generally increase as age increases, with a peak at 18 years old. However, this trend is fairly minor, confirming what we saw in the correlation matrix."
   ]
  },
  {
   "cell_type": "code",
   "execution_count": 29,
   "metadata": {},
   "outputs": [
    {
     "data": {
      "text/plain": [
       "(0, 21)"
      ]
     },
     "execution_count": 29,
     "metadata": {},
     "output_type": "execute_result"
    },
    {
     "data": {
      "image/png": "[encoded data removed]",
      "text/plain": [
       "<Figure size 432x288 with 1 Axes>"
      ]
     },
     "metadata": {},
     "output_type": "display_data"
    }
   ],
   "source": [
    "dfTrain.boxplot(column = 'author_length', by = 'age')\n",
    "plt.ylim(0,21)"
   ]
  },
  {
   "cell_type": "markdown",
   "metadata": {},
   "source": [
    "There does not appear to be a clear trend between the the username character length and age of a user."
   ]
  },
  {
   "cell_type": "code",
   "execution_count": 30,
   "metadata": {},
   "outputs": [
    {
     "name": "stdout",
     "output_type": "stream",
     "text": [
      "22053\n",
      "39302\n",
      "47697\n",
      "44247\n",
      "31268\n",
      "16539\n",
      "5486\n",
      "1143\n"
     ]
    },
    {
     "data": {
      "text/plain": [
       "array(['Other', 'Discussion', 'Serious', 'Advice', 'Media', 'Social',\n",
       "       'Meme', 'Rant', 'Art', 'Relationship', nan, 'AMA', 'Mod'],\n",
       "      dtype=object)"
      ]
     },
     "execution_count": 30,
     "metadata": {},
     "output_type": "execute_result"
    }
   ],
   "source": [
    "# % of submissions containing swear words by age\n",
    "groupAge = dfTrain.groupby(['age'])\n",
    "ageCount = []\n",
    "\n",
    "for num in sorted(dfTrain.age.unique()):\n",
    "    ageCount.append(groupAge.get_group(num).shape[0])\n",
    "    print(groupAge.get_group(num).shape[0])\n",
    "\n",
    "#plt.bar(sorted(dfTrain.age.unique()), ageCount)"
   ]
  },
  {
   "cell_type": "markdown",
   "metadata": {},
   "source": [
    "### Takeaways\n",
    "Because the (linear) correlations between our different predictor variables and the age of a user are weak, we are deciding to treat age like a categorical variable and trying to build a classification model."
   ]
  },
  {
   "cell_type": "markdown",
   "metadata": {},
   "source": [
    "## Model Creation"
   ]
  },
  {
   "cell_type": "code",
   "execution_count": 178,
   "metadata": {},
   "outputs": [],
   "source": [
    "trainX = dfTrain.drop(columns = ['id','author','link_flair_text','title','age'])\n",
    "trainY = dfTrain['age']\n",
    "\n",
    "testX = dfTest.drop(columns = ['id','author','link_flair_text','title','age'])\n",
    "testY = dfTest['age']"
   ]
  },
  {
   "cell_type": "markdown",
   "metadata": {},
   "source": [
    "### Model 1: Logistic Regression\n",
    "The first model that we are creating is a multinomial logistic regression model."
   ]
  },
  {
   "cell_type": "code",
   "execution_count": 170,
   "metadata": {},
   "outputs": [
    {
     "name": "stderr",
     "output_type": "stream",
     "text": [
      "/anaconda3/lib/python3.6/site-packages/sklearn/linear_model/_logistic.py:765: ConvergenceWarning: lbfgs failed to converge (status=1):\n",
      "STOP: TOTAL NO. of ITERATIONS REACHED LIMIT.\n",
      "\n",
      "Increase the number of iterations (max_iter) or scale the data as shown in:\n",
      "    https://scikit-learn.org/stable/modules/preprocessing.html\n",
      "Please also refer to the documentation for alternative solver options:\n",
      "    https://scikit-learn.org/stable/modules/linear_model.html#logistic-regression\n",
      "  extra_warning_msg=_LOGISTIC_SOLVER_CONVERGENCE_MSG)\n"
     ]
    },
    {
     "data": {
      "text/plain": [
       "LogisticRegression(multi_class='multinomial')"
      ]
     },
     "execution_count": 170,
     "metadata": {},
     "output_type": "execute_result"
    }
   ],
   "source": [
    "model = LogisticRegression(multi_class='multinomial', solver='lbfgs', max_iter = 100)\n",
    "model.fit(trainX, trainY)"
   ]
  },
  {
   "cell_type": "code",
   "execution_count": 171,
   "metadata": {},
   "outputs": [
    {
     "name": "stdout",
     "output_type": "stream",
     "text": [
      "Variable:  score\n",
      "Coefficient: 0.0\n",
      "\n",
      "\n",
      "Variable:  upvote_ratio\n",
      "Coefficient: -0.001\n",
      "\n",
      "\n",
      "Variable:  num_comments\n",
      "Coefficient: 0.003\n",
      "\n",
      "\n",
      "Variable:  swear\n",
      "Coefficient: -0.0\n",
      "\n",
      "\n",
      "Variable:  title_length\n",
      "Coefficient: 0.003\n",
      "\n",
      "\n",
      "Variable:  author_length\n",
      "Coefficient: 0.006\n",
      "\n",
      "\n",
      "Intercept:  -0.001\n"
     ]
    }
   ],
   "source": [
    "predictors = trainX.columns\n",
    "for var in range(len(predictors)):\n",
    "    print('Variable: ', predictors[var])\n",
    "    print('Coefficient:', round(model.coef_[0,var],3))\n",
    "    print('\\n')\n",
    "print('Intercept: ', round(model.intercept_[0],3))"
   ]
  },
  {
   "cell_type": "markdown",
   "metadata": {},
   "source": [
    "Score and swear word presence appears to have no relationship with the age of the author. Upvote_ratio has a slighly negative relationship with age, while num_comments, title_length, and author_length have slightly positive relationships with age."
   ]
  },
  {
   "cell_type": "code",
   "execution_count": 174,
   "metadata": {},
   "outputs": [
    {
     "data": {
      "text/plain": [
       "0.2302730388570108"
      ]
     },
     "execution_count": 174,
     "metadata": {},
     "output_type": "execute_result"
    }
   ],
   "source": [
    "model.score(testX, testY)"
   ]
  },
  {
   "cell_type": "code",
   "execution_count": 173,
   "metadata": {},
   "outputs": [
    {
     "data": {
      "text/plain": [
       "0.2302537836484769"
      ]
     },
     "execution_count": 173,
     "metadata": {},
     "output_type": "execute_result"
    }
   ],
   "source": [
    "dfTest.age.value_counts()[0]/dfTest.shape[0]"
   ]
  },
  {
   "cell_type": "markdown",
   "metadata": {},
   "source": [
    "Our multinomial logistic regression model has an accuracy of 23.027%. However, the baseline accuracy (accuracy if we guessed the most common age every time) is 23.025%, so our does about as well as the baseline, if (very slightly) above."
   ]
  },
  {
   "cell_type": "markdown",
   "metadata": {},
   "source": [
    "### Model 2: KNN\n",
    "Our second model uses K-nearest neighbors regression to categorize the data."
   ]
  },
  {
   "cell_type": "code",
   "execution_count": 150,
   "metadata": {},
   "outputs": [
    {
     "data": {
      "text/plain": [
       "0.21985597104016635"
      ]
     },
     "execution_count": 150,
     "metadata": {},
     "output_type": "execute_result"
    }
   ],
   "source": [
    "model2 = KNeighborsClassifier(n_neighbors = 8)\n",
    "model2.fit(trainX, trainY)\n",
    "\n",
    "predicted = model2.predict(testX)\n",
    "\n",
    "model2.score(testX, testY)"
   ]
  },
  {
   "cell_type": "markdown",
   "metadata": {},
   "source": [
    "Here, the accuracy is 22%, which is slightly below our baseline accuracy."
   ]
  }
 ],
 "metadata": {
  "kernelspec": {
   "display_name": "Python 3",
   "language": "python",
   "name": "python3"
  },
  "language_info": {
   "codemirror_mode": {
    "name": "ipython",
    "version": 3
   },
   "file_extension": ".py",
   "mimetype": "text/x-python",
   "name": "python",
   "nbconvert_exporter": "python",
   "pygments_lexer": "ipython3",
   "version": "3.6.8"
  }
 },
 "nbformat": 4,
 "nbformat_minor": 2
}
